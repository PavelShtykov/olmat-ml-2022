{
  "nbformat": 4,
  "nbformat_minor": 0,
  "metadata": {
    "colab": {
      "name": "ML_day_3.ipynb",
      "provenance": []
    },
    "kernelspec": {
      "name": "python3",
      "display_name": "Python 3"
    },
    "language_info": {
      "name": "python"
    }
  },
  "cells": [
    {
      "cell_type": "markdown",
      "source": [
        "# Спецкурс по ML (3 день)\n",
        "## Штыков Павел (@ShtykovPavel)"
      ],
      "metadata": {
        "id": "as7FvHTSsdGq"
      }
    },
    {
      "cell_type": "code",
      "execution_count": 49,
      "metadata": {
        "colab": {
          "base_uri": "https://localhost:8080/"
        },
        "id": "l7Q-U-bKrmDm",
        "outputId": "239f24ca-4ff8-4ad5-dff9-dfcc9ae4d54b"
      },
      "outputs": [
        {
          "output_type": "stream",
          "name": "stdout",
          "text": [
            "/usr/local/lib/python3.7/dist-packages/gdown/cli.py:131: FutureWarning: Option `--id` was deprecated in version 4.3.1 and will be removed in 5.0. You don't need to pass it anymore to use a file ID.\n",
            "  category=FutureWarning,\n",
            "Downloading...\n",
            "From: https://drive.google.com/uc?id=18DZtYN-JvEKhkRtnca6BTuKtzun4mhsB\n",
            "To: /content/cars.csv\n",
            "100% 568k/568k [00:00<00:00, 46.6MB/s]\n"
          ]
        }
      ],
      "source": [
        "!gdown --id 18DZtYN-JvEKhkRtnca6BTuKtzun4mhsB\n"
      ]
    },
    {
      "cell_type": "code",
      "source": [
        "import pandas as pd\n",
        "import numpy as np\n",
        "import matplotlib.pyplot as plt\n",
        "\n",
        "from sklearn.linear_model import LinearRegression\n",
        "from sklearn.tree import DecisionTreeRegressor\n",
        "from sklearn.ensemble import RandomForestRegressor, GradientBoostingRegressor\n",
        "from sklearn.metrics import mean_squared_error\n",
        "from sklearn.model_selection import train_test_split\n",
        "\n",
        "pd.options.display.max_columns = None"
      ],
      "metadata": {
        "id": "Cd0QY_S4sYek"
      },
      "execution_count": 50,
      "outputs": []
    },
    {
      "cell_type": "code",
      "source": [
        "df = pd.read_csv(\"cars.csv\")"
      ],
      "metadata": {
        "id": "dh_E_XqRs8xl"
      },
      "execution_count": 51,
      "outputs": []
    },
    {
      "cell_type": "code",
      "source": [
        "df.head()"
      ],
      "metadata": {
        "colab": {
          "base_uri": "https://localhost:8080/",
          "height": 600
        },
        "id": "tNaZQw9XtBrx",
        "outputId": "a448b2c3-3bd2-4271-a04f-2344b9e39198"
      },
      "execution_count": 52,
      "outputs": [
        {
          "output_type": "execute_result",
          "data": {
            "text/plain": [
              "   Unnamed: 0  Engine Capacity  Cylinders  Drive Type  Fuel Tank Capacity  \\\n",
              "0           0              1.2          3           0                42.0   \n",
              "1           1              1.2          3           0                42.0   \n",
              "2           2              1.4          4           0                45.0   \n",
              "3           3              1.6          4           0                50.0   \n",
              "4           4              1.5          4           0                48.0   \n",
              "\n",
              "   Fuel Economy  Fuel Type  Horsepower  Torque  Transmission  Top Speed  \\\n",
              "0           4.9          0          76   100.0             0        170   \n",
              "1           4.9          0          76   100.0             0        170   \n",
              "2           6.3          0          75   118.0             1        156   \n",
              "3           6.4          0         102   145.0             0        180   \n",
              "4           5.8          0         112   150.0             0        170   \n",
              "\n",
              "   Seating Capacity  Acceleration  Length  Width  Height  Wheelbase  \\\n",
              "0                 5          14.0   4.245  1.670   1.515      2.550   \n",
              "1                 5          14.0   4.245  1.670   1.515      2.550   \n",
              "2                 2          16.0   3.864  1.716   1.721      2.513   \n",
              "3                 5          11.0   4.354  1.994   1.529      2.635   \n",
              "4                 5          10.9   4.314  1.809   1.624      2.585   \n",
              "\n",
              "   Trunk Capacity                                    name    price  currency  \\\n",
              "0           450.0  Mitsubishi Attrage 2021 1.2 GLX (Base)  34099.0         0   \n",
              "1           450.0  Mitsubishi Attrage 2021 1.2 GLX (Base)  34099.0         0   \n",
              "2          2800.0         Fiat Fiorino 2021 1.4L Standard  41250.0         0   \n",
              "3           510.0             Renault Symbol 2021 1.6L PE  44930.0         0   \n",
              "4           448.0                     MG ZS 2021 1.5L STD  57787.0         0   \n",
              "\n",
              "   Country  \n",
              "0        0  \n",
              "1        0  \n",
              "2        0  \n",
              "3        0  \n",
              "4        0  "
            ],
            "text/html": [
              "\n",
              "  <div id=\"df-fea0ebd6-315a-451e-8d88-b0bb0f36bb41\">\n",
              "    <div class=\"colab-df-container\">\n",
              "      <div>\n",
              "<style scoped>\n",
              "    .dataframe tbody tr th:only-of-type {\n",
              "        vertical-align: middle;\n",
              "    }\n",
              "\n",
              "    .dataframe tbody tr th {\n",
              "        vertical-align: top;\n",
              "    }\n",
              "\n",
              "    .dataframe thead th {\n",
              "        text-align: right;\n",
              "    }\n",
              "</style>\n",
              "<table border=\"1\" class=\"dataframe\">\n",
              "  <thead>\n",
              "    <tr style=\"text-align: right;\">\n",
              "      <th></th>\n",
              "      <th>Unnamed: 0</th>\n",
              "      <th>Engine Capacity</th>\n",
              "      <th>Cylinders</th>\n",
              "      <th>Drive Type</th>\n",
              "      <th>Fuel Tank Capacity</th>\n",
              "      <th>Fuel Economy</th>\n",
              "      <th>Fuel Type</th>\n",
              "      <th>Horsepower</th>\n",
              "      <th>Torque</th>\n",
              "      <th>Transmission</th>\n",
              "      <th>Top Speed</th>\n",
              "      <th>Seating Capacity</th>\n",
              "      <th>Acceleration</th>\n",
              "      <th>Length</th>\n",
              "      <th>Width</th>\n",
              "      <th>Height</th>\n",
              "      <th>Wheelbase</th>\n",
              "      <th>Trunk Capacity</th>\n",
              "      <th>name</th>\n",
              "      <th>price</th>\n",
              "      <th>currency</th>\n",
              "      <th>Country</th>\n",
              "    </tr>\n",
              "  </thead>\n",
              "  <tbody>\n",
              "    <tr>\n",
              "      <th>0</th>\n",
              "      <td>0</td>\n",
              "      <td>1.2</td>\n",
              "      <td>3</td>\n",
              "      <td>0</td>\n",
              "      <td>42.0</td>\n",
              "      <td>4.9</td>\n",
              "      <td>0</td>\n",
              "      <td>76</td>\n",
              "      <td>100.0</td>\n",
              "      <td>0</td>\n",
              "      <td>170</td>\n",
              "      <td>5</td>\n",
              "      <td>14.0</td>\n",
              "      <td>4.245</td>\n",
              "      <td>1.670</td>\n",
              "      <td>1.515</td>\n",
              "      <td>2.550</td>\n",
              "      <td>450.0</td>\n",
              "      <td>Mitsubishi Attrage 2021 1.2 GLX (Base)</td>\n",
              "      <td>34099.0</td>\n",
              "      <td>0</td>\n",
              "      <td>0</td>\n",
              "    </tr>\n",
              "    <tr>\n",
              "      <th>1</th>\n",
              "      <td>1</td>\n",
              "      <td>1.2</td>\n",
              "      <td>3</td>\n",
              "      <td>0</td>\n",
              "      <td>42.0</td>\n",
              "      <td>4.9</td>\n",
              "      <td>0</td>\n",
              "      <td>76</td>\n",
              "      <td>100.0</td>\n",
              "      <td>0</td>\n",
              "      <td>170</td>\n",
              "      <td>5</td>\n",
              "      <td>14.0</td>\n",
              "      <td>4.245</td>\n",
              "      <td>1.670</td>\n",
              "      <td>1.515</td>\n",
              "      <td>2.550</td>\n",
              "      <td>450.0</td>\n",
              "      <td>Mitsubishi Attrage 2021 1.2 GLX (Base)</td>\n",
              "      <td>34099.0</td>\n",
              "      <td>0</td>\n",
              "      <td>0</td>\n",
              "    </tr>\n",
              "    <tr>\n",
              "      <th>2</th>\n",
              "      <td>2</td>\n",
              "      <td>1.4</td>\n",
              "      <td>4</td>\n",
              "      <td>0</td>\n",
              "      <td>45.0</td>\n",
              "      <td>6.3</td>\n",
              "      <td>0</td>\n",
              "      <td>75</td>\n",
              "      <td>118.0</td>\n",
              "      <td>1</td>\n",
              "      <td>156</td>\n",
              "      <td>2</td>\n",
              "      <td>16.0</td>\n",
              "      <td>3.864</td>\n",
              "      <td>1.716</td>\n",
              "      <td>1.721</td>\n",
              "      <td>2.513</td>\n",
              "      <td>2800.0</td>\n",
              "      <td>Fiat Fiorino 2021 1.4L Standard</td>\n",
              "      <td>41250.0</td>\n",
              "      <td>0</td>\n",
              "      <td>0</td>\n",
              "    </tr>\n",
              "    <tr>\n",
              "      <th>3</th>\n",
              "      <td>3</td>\n",
              "      <td>1.6</td>\n",
              "      <td>4</td>\n",
              "      <td>0</td>\n",
              "      <td>50.0</td>\n",
              "      <td>6.4</td>\n",
              "      <td>0</td>\n",
              "      <td>102</td>\n",
              "      <td>145.0</td>\n",
              "      <td>0</td>\n",
              "      <td>180</td>\n",
              "      <td>5</td>\n",
              "      <td>11.0</td>\n",
              "      <td>4.354</td>\n",
              "      <td>1.994</td>\n",
              "      <td>1.529</td>\n",
              "      <td>2.635</td>\n",
              "      <td>510.0</td>\n",
              "      <td>Renault Symbol 2021 1.6L PE</td>\n",
              "      <td>44930.0</td>\n",
              "      <td>0</td>\n",
              "      <td>0</td>\n",
              "    </tr>\n",
              "    <tr>\n",
              "      <th>4</th>\n",
              "      <td>4</td>\n",
              "      <td>1.5</td>\n",
              "      <td>4</td>\n",
              "      <td>0</td>\n",
              "      <td>48.0</td>\n",
              "      <td>5.8</td>\n",
              "      <td>0</td>\n",
              "      <td>112</td>\n",
              "      <td>150.0</td>\n",
              "      <td>0</td>\n",
              "      <td>170</td>\n",
              "      <td>5</td>\n",
              "      <td>10.9</td>\n",
              "      <td>4.314</td>\n",
              "      <td>1.809</td>\n",
              "      <td>1.624</td>\n",
              "      <td>2.585</td>\n",
              "      <td>448.0</td>\n",
              "      <td>MG ZS 2021 1.5L STD</td>\n",
              "      <td>57787.0</td>\n",
              "      <td>0</td>\n",
              "      <td>0</td>\n",
              "    </tr>\n",
              "  </tbody>\n",
              "</table>\n",
              "</div>\n",
              "      <button class=\"colab-df-convert\" onclick=\"convertToInteractive('df-fea0ebd6-315a-451e-8d88-b0bb0f36bb41')\"\n",
              "              title=\"Convert this dataframe to an interactive table.\"\n",
              "              style=\"display:none;\">\n",
              "        \n",
              "  <svg xmlns=\"http://www.w3.org/2000/svg\" height=\"24px\"viewBox=\"0 0 24 24\"\n",
              "       width=\"24px\">\n",
              "    <path d=\"M0 0h24v24H0V0z\" fill=\"none\"/>\n",
              "    <path d=\"M18.56 5.44l.94 2.06.94-2.06 2.06-.94-2.06-.94-.94-2.06-.94 2.06-2.06.94zm-11 1L8.5 8.5l.94-2.06 2.06-.94-2.06-.94L8.5 2.5l-.94 2.06-2.06.94zm10 10l.94 2.06.94-2.06 2.06-.94-2.06-.94-.94-2.06-.94 2.06-2.06.94z\"/><path d=\"M17.41 7.96l-1.37-1.37c-.4-.4-.92-.59-1.43-.59-.52 0-1.04.2-1.43.59L10.3 9.45l-7.72 7.72c-.78.78-.78 2.05 0 2.83L4 21.41c.39.39.9.59 1.41.59.51 0 1.02-.2 1.41-.59l7.78-7.78 2.81-2.81c.8-.78.8-2.07 0-2.86zM5.41 20L4 18.59l7.72-7.72 1.47 1.35L5.41 20z\"/>\n",
              "  </svg>\n",
              "      </button>\n",
              "      \n",
              "  <style>\n",
              "    .colab-df-container {\n",
              "      display:flex;\n",
              "      flex-wrap:wrap;\n",
              "      gap: 12px;\n",
              "    }\n",
              "\n",
              "    .colab-df-convert {\n",
              "      background-color: #E8F0FE;\n",
              "      border: none;\n",
              "      border-radius: 50%;\n",
              "      cursor: pointer;\n",
              "      display: none;\n",
              "      fill: #1967D2;\n",
              "      height: 32px;\n",
              "      padding: 0 0 0 0;\n",
              "      width: 32px;\n",
              "    }\n",
              "\n",
              "    .colab-df-convert:hover {\n",
              "      background-color: #E2EBFA;\n",
              "      box-shadow: 0px 1px 2px rgba(60, 64, 67, 0.3), 0px 1px 3px 1px rgba(60, 64, 67, 0.15);\n",
              "      fill: #174EA6;\n",
              "    }\n",
              "\n",
              "    [theme=dark] .colab-df-convert {\n",
              "      background-color: #3B4455;\n",
              "      fill: #D2E3FC;\n",
              "    }\n",
              "\n",
              "    [theme=dark] .colab-df-convert:hover {\n",
              "      background-color: #434B5C;\n",
              "      box-shadow: 0px 1px 3px 1px rgba(0, 0, 0, 0.15);\n",
              "      filter: drop-shadow(0px 1px 2px rgba(0, 0, 0, 0.3));\n",
              "      fill: #FFFFFF;\n",
              "    }\n",
              "  </style>\n",
              "\n",
              "      <script>\n",
              "        const buttonEl =\n",
              "          document.querySelector('#df-fea0ebd6-315a-451e-8d88-b0bb0f36bb41 button.colab-df-convert');\n",
              "        buttonEl.style.display =\n",
              "          google.colab.kernel.accessAllowed ? 'block' : 'none';\n",
              "\n",
              "        async function convertToInteractive(key) {\n",
              "          const element = document.querySelector('#df-fea0ebd6-315a-451e-8d88-b0bb0f36bb41');\n",
              "          const dataTable =\n",
              "            await google.colab.kernel.invokeFunction('convertToInteractive',\n",
              "                                                     [key], {});\n",
              "          if (!dataTable) return;\n",
              "\n",
              "          const docLinkHtml = 'Like what you see? Visit the ' +\n",
              "            '<a target=\"_blank\" href=https://colab.research.google.com/notebooks/data_table.ipynb>data table notebook</a>'\n",
              "            + ' to learn more about interactive tables.';\n",
              "          element.innerHTML = '';\n",
              "          dataTable['output_type'] = 'display_data';\n",
              "          await google.colab.output.renderOutput(dataTable, element);\n",
              "          const docLink = document.createElement('div');\n",
              "          docLink.innerHTML = docLinkHtml;\n",
              "          element.appendChild(docLink);\n",
              "        }\n",
              "      </script>\n",
              "    </div>\n",
              "  </div>\n",
              "  "
            ]
          },
          "metadata": {},
          "execution_count": 52
        }
      ]
    },
    {
      "cell_type": "code",
      "source": [
        "X = df.drop(\"price\", axis=1)\n",
        "y = df[\"price\"]\n",
        "\n",
        "X_train, X_test, y_train, y_test = train_test_split(X, y)"
      ],
      "metadata": {
        "id": "vD5KAAQDtCX_"
      },
      "execution_count": 53,
      "outputs": []
    },
    {
      "cell_type": "code",
      "source": [
        "X_train.shape, X_test.shape, y_train.shape, y_test.shape"
      ],
      "metadata": {
        "colab": {
          "base_uri": "https://localhost:8080/"
        },
        "id": "wYuRvIR7uRu2",
        "outputId": "bfcc9fc9-ed9f-4020-e350-117850ae496b"
      },
      "execution_count": 54,
      "outputs": [
        {
          "output_type": "execute_result",
          "data": {
            "text/plain": [
              "((3420, 21), (1140, 21), (3420,), (1140,))"
            ]
          },
          "metadata": {},
          "execution_count": 54
        }
      ]
    },
    {
      "cell_type": "code",
      "source": [
        "y_train"
      ],
      "metadata": {
        "colab": {
          "base_uri": "https://localhost:8080/"
        },
        "id": "RvtfivGmu3GI",
        "outputId": "747d3a43-40e3-4609-ecf8-838088e901f2"
      },
      "execution_count": 19,
      "outputs": [
        {
          "output_type": "execute_result",
          "data": {
            "text/plain": [
              "793      35000.0\n",
              "3318      7499.0\n",
              "3777     25000.0\n",
              "4602     33000.0\n",
              "153     112355.0\n",
              "          ...   \n",
              "2275     12995.0\n",
              "2460     18500.0\n",
              "4505     24400.0\n",
              "2382     16500.0\n",
              "816      46500.0\n",
              "Name: price, Length: 3420, dtype: float64"
            ]
          },
          "metadata": {},
          "execution_count": 19
        }
      ]
    },
    {
      "cell_type": "code",
      "source": [
        "X_train.head()"
      ],
      "metadata": {
        "colab": {
          "base_uri": "https://localhost:8080/",
          "height": 739
        },
        "id": "NZPv9C-mu_Ro",
        "outputId": "1d12cd4f-656d-4ba2-f7f6-163856f7e862"
      },
      "execution_count": 21,
      "outputs": [
        {
          "output_type": "execute_result",
          "data": {
            "text/plain": [
              "      Engine Capacity  Cylinders  Drive Type  Fuel Tank Capacity  \\\n",
              "793               1.5          4           0                42.0   \n",
              "3318              2.5          4           0                61.3   \n",
              "3777              5.7          8           1               138.0   \n",
              "4602              4.6          8           2                84.0   \n",
              "153               2.7          4           2                80.0   \n",
              "\n",
              "      Fuel Economy  Fuel Type  Horsepower  Torque  Transmission  Top Speed  \\\n",
              "793            6.8          0         107   140.0             0        175   \n",
              "3318           6.3          0         188   244.0             2        220   \n",
              "3777          15.7          0         362   530.0             0        220   \n",
              "4602          12.3          0         382   493.0             0        250   \n",
              "153           11.1          0         164   245.0             1        165   \n",
              "\n",
              "      Seating Capacity  Acceleration  Length  Width  Height  Wheelbase  \\\n",
              "793                  5          13.0   4.450  1.748   1.493      2.570   \n",
              "3318                 5           8.0   4.869  1.850   1.440      2.825   \n",
              "3777                 8           7.0   5.095  1.980   1.930      2.850   \n",
              "4602                 5           6.5   5.090  1.875   1.465      2.970   \n",
              "153                  5          11.5   5.335  1.815   1.815      3.090   \n",
              "\n",
              "      Trunk Capacity                                               name  \\\n",
              "793            502.0                     Chery Arrizo 3 2021 1.5L Baisc   \n",
              "3318           517.0                          Nissan Altima 2021 2.5 SV   \n",
              "3777           456.0                  Toyota Land Cruiser 2021 5.7L EXR   \n",
              "4602           510.0                    Lexus LS 2021 460 Premier (SWB)   \n",
              "153            900.0  Toyota Hilux 2021 2.7L GLX 2 Double Cab M/T (4x2)   \n",
              "\n",
              "      currency  Country  \n",
              "793          1        1  \n",
              "3318         3        3  \n",
              "3777         3        3  \n",
              "4602         4        4  \n",
              "153          0        0  "
            ],
            "text/html": [
              "\n",
              "  <div id=\"df-7aefdd96-20c0-4f0a-8009-70204b909491\">\n",
              "    <div class=\"colab-df-container\">\n",
              "      <div>\n",
              "<style scoped>\n",
              "    .dataframe tbody tr th:only-of-type {\n",
              "        vertical-align: middle;\n",
              "    }\n",
              "\n",
              "    .dataframe tbody tr th {\n",
              "        vertical-align: top;\n",
              "    }\n",
              "\n",
              "    .dataframe thead th {\n",
              "        text-align: right;\n",
              "    }\n",
              "</style>\n",
              "<table border=\"1\" class=\"dataframe\">\n",
              "  <thead>\n",
              "    <tr style=\"text-align: right;\">\n",
              "      <th></th>\n",
              "      <th>Engine Capacity</th>\n",
              "      <th>Cylinders</th>\n",
              "      <th>Drive Type</th>\n",
              "      <th>Fuel Tank Capacity</th>\n",
              "      <th>Fuel Economy</th>\n",
              "      <th>Fuel Type</th>\n",
              "      <th>Horsepower</th>\n",
              "      <th>Torque</th>\n",
              "      <th>Transmission</th>\n",
              "      <th>Top Speed</th>\n",
              "      <th>Seating Capacity</th>\n",
              "      <th>Acceleration</th>\n",
              "      <th>Length</th>\n",
              "      <th>Width</th>\n",
              "      <th>Height</th>\n",
              "      <th>Wheelbase</th>\n",
              "      <th>Trunk Capacity</th>\n",
              "      <th>name</th>\n",
              "      <th>currency</th>\n",
              "      <th>Country</th>\n",
              "    </tr>\n",
              "  </thead>\n",
              "  <tbody>\n",
              "    <tr>\n",
              "      <th>793</th>\n",
              "      <td>1.5</td>\n",
              "      <td>4</td>\n",
              "      <td>0</td>\n",
              "      <td>42.0</td>\n",
              "      <td>6.8</td>\n",
              "      <td>0</td>\n",
              "      <td>107</td>\n",
              "      <td>140.0</td>\n",
              "      <td>0</td>\n",
              "      <td>175</td>\n",
              "      <td>5</td>\n",
              "      <td>13.0</td>\n",
              "      <td>4.450</td>\n",
              "      <td>1.748</td>\n",
              "      <td>1.493</td>\n",
              "      <td>2.570</td>\n",
              "      <td>502.0</td>\n",
              "      <td>Chery Arrizo 3 2021 1.5L Baisc</td>\n",
              "      <td>1</td>\n",
              "      <td>1</td>\n",
              "    </tr>\n",
              "    <tr>\n",
              "      <th>3318</th>\n",
              "      <td>2.5</td>\n",
              "      <td>4</td>\n",
              "      <td>0</td>\n",
              "      <td>61.3</td>\n",
              "      <td>6.3</td>\n",
              "      <td>0</td>\n",
              "      <td>188</td>\n",
              "      <td>244.0</td>\n",
              "      <td>2</td>\n",
              "      <td>220</td>\n",
              "      <td>5</td>\n",
              "      <td>8.0</td>\n",
              "      <td>4.869</td>\n",
              "      <td>1.850</td>\n",
              "      <td>1.440</td>\n",
              "      <td>2.825</td>\n",
              "      <td>517.0</td>\n",
              "      <td>Nissan Altima 2021 2.5 SV</td>\n",
              "      <td>3</td>\n",
              "      <td>3</td>\n",
              "    </tr>\n",
              "    <tr>\n",
              "      <th>3777</th>\n",
              "      <td>5.7</td>\n",
              "      <td>8</td>\n",
              "      <td>1</td>\n",
              "      <td>138.0</td>\n",
              "      <td>15.7</td>\n",
              "      <td>0</td>\n",
              "      <td>362</td>\n",
              "      <td>530.0</td>\n",
              "      <td>0</td>\n",
              "      <td>220</td>\n",
              "      <td>8</td>\n",
              "      <td>7.0</td>\n",
              "      <td>5.095</td>\n",
              "      <td>1.980</td>\n",
              "      <td>1.930</td>\n",
              "      <td>2.850</td>\n",
              "      <td>456.0</td>\n",
              "      <td>Toyota Land Cruiser 2021 5.7L EXR</td>\n",
              "      <td>3</td>\n",
              "      <td>3</td>\n",
              "    </tr>\n",
              "    <tr>\n",
              "      <th>4602</th>\n",
              "      <td>4.6</td>\n",
              "      <td>8</td>\n",
              "      <td>2</td>\n",
              "      <td>84.0</td>\n",
              "      <td>12.3</td>\n",
              "      <td>0</td>\n",
              "      <td>382</td>\n",
              "      <td>493.0</td>\n",
              "      <td>0</td>\n",
              "      <td>250</td>\n",
              "      <td>5</td>\n",
              "      <td>6.5</td>\n",
              "      <td>5.090</td>\n",
              "      <td>1.875</td>\n",
              "      <td>1.465</td>\n",
              "      <td>2.970</td>\n",
              "      <td>510.0</td>\n",
              "      <td>Lexus LS 2021 460 Premier (SWB)</td>\n",
              "      <td>4</td>\n",
              "      <td>4</td>\n",
              "    </tr>\n",
              "    <tr>\n",
              "      <th>153</th>\n",
              "      <td>2.7</td>\n",
              "      <td>4</td>\n",
              "      <td>2</td>\n",
              "      <td>80.0</td>\n",
              "      <td>11.1</td>\n",
              "      <td>0</td>\n",
              "      <td>164</td>\n",
              "      <td>245.0</td>\n",
              "      <td>1</td>\n",
              "      <td>165</td>\n",
              "      <td>5</td>\n",
              "      <td>11.5</td>\n",
              "      <td>5.335</td>\n",
              "      <td>1.815</td>\n",
              "      <td>1.815</td>\n",
              "      <td>3.090</td>\n",
              "      <td>900.0</td>\n",
              "      <td>Toyota Hilux 2021 2.7L GLX 2 Double Cab M/T (4x2)</td>\n",
              "      <td>0</td>\n",
              "      <td>0</td>\n",
              "    </tr>\n",
              "  </tbody>\n",
              "</table>\n",
              "</div>\n",
              "      <button class=\"colab-df-convert\" onclick=\"convertToInteractive('df-7aefdd96-20c0-4f0a-8009-70204b909491')\"\n",
              "              title=\"Convert this dataframe to an interactive table.\"\n",
              "              style=\"display:none;\">\n",
              "        \n",
              "  <svg xmlns=\"http://www.w3.org/2000/svg\" height=\"24px\"viewBox=\"0 0 24 24\"\n",
              "       width=\"24px\">\n",
              "    <path d=\"M0 0h24v24H0V0z\" fill=\"none\"/>\n",
              "    <path d=\"M18.56 5.44l.94 2.06.94-2.06 2.06-.94-2.06-.94-.94-2.06-.94 2.06-2.06.94zm-11 1L8.5 8.5l.94-2.06 2.06-.94-2.06-.94L8.5 2.5l-.94 2.06-2.06.94zm10 10l.94 2.06.94-2.06 2.06-.94-2.06-.94-.94-2.06-.94 2.06-2.06.94z\"/><path d=\"M17.41 7.96l-1.37-1.37c-.4-.4-.92-.59-1.43-.59-.52 0-1.04.2-1.43.59L10.3 9.45l-7.72 7.72c-.78.78-.78 2.05 0 2.83L4 21.41c.39.39.9.59 1.41.59.51 0 1.02-.2 1.41-.59l7.78-7.78 2.81-2.81c.8-.78.8-2.07 0-2.86zM5.41 20L4 18.59l7.72-7.72 1.47 1.35L5.41 20z\"/>\n",
              "  </svg>\n",
              "      </button>\n",
              "      \n",
              "  <style>\n",
              "    .colab-df-container {\n",
              "      display:flex;\n",
              "      flex-wrap:wrap;\n",
              "      gap: 12px;\n",
              "    }\n",
              "\n",
              "    .colab-df-convert {\n",
              "      background-color: #E8F0FE;\n",
              "      border: none;\n",
              "      border-radius: 50%;\n",
              "      cursor: pointer;\n",
              "      display: none;\n",
              "      fill: #1967D2;\n",
              "      height: 32px;\n",
              "      padding: 0 0 0 0;\n",
              "      width: 32px;\n",
              "    }\n",
              "\n",
              "    .colab-df-convert:hover {\n",
              "      background-color: #E2EBFA;\n",
              "      box-shadow: 0px 1px 2px rgba(60, 64, 67, 0.3), 0px 1px 3px 1px rgba(60, 64, 67, 0.15);\n",
              "      fill: #174EA6;\n",
              "    }\n",
              "\n",
              "    [theme=dark] .colab-df-convert {\n",
              "      background-color: #3B4455;\n",
              "      fill: #D2E3FC;\n",
              "    }\n",
              "\n",
              "    [theme=dark] .colab-df-convert:hover {\n",
              "      background-color: #434B5C;\n",
              "      box-shadow: 0px 1px 3px 1px rgba(0, 0, 0, 0.15);\n",
              "      filter: drop-shadow(0px 1px 2px rgba(0, 0, 0, 0.3));\n",
              "      fill: #FFFFFF;\n",
              "    }\n",
              "  </style>\n",
              "\n",
              "      <script>\n",
              "        const buttonEl =\n",
              "          document.querySelector('#df-7aefdd96-20c0-4f0a-8009-70204b909491 button.colab-df-convert');\n",
              "        buttonEl.style.display =\n",
              "          google.colab.kernel.accessAllowed ? 'block' : 'none';\n",
              "\n",
              "        async function convertToInteractive(key) {\n",
              "          const element = document.querySelector('#df-7aefdd96-20c0-4f0a-8009-70204b909491');\n",
              "          const dataTable =\n",
              "            await google.colab.kernel.invokeFunction('convertToInteractive',\n",
              "                                                     [key], {});\n",
              "          if (!dataTable) return;\n",
              "\n",
              "          const docLinkHtml = 'Like what you see? Visit the ' +\n",
              "            '<a target=\"_blank\" href=https://colab.research.google.com/notebooks/data_table.ipynb>data table notebook</a>'\n",
              "            + ' to learn more about interactive tables.';\n",
              "          element.innerHTML = '';\n",
              "          dataTable['output_type'] = 'display_data';\n",
              "          await google.colab.output.renderOutput(dataTable, element);\n",
              "          const docLink = document.createElement('div');\n",
              "          docLink.innerHTML = docLinkHtml;\n",
              "          element.appendChild(docLink);\n",
              "        }\n",
              "      </script>\n",
              "    </div>\n",
              "  </div>\n",
              "  "
            ]
          },
          "metadata": {},
          "execution_count": 21
        }
      ]
    },
    {
      "cell_type": "code",
      "source": [
        "y_test.mean(), y_test.max(), y_test.min()"
      ],
      "metadata": {
        "colab": {
          "base_uri": "https://localhost:8080/"
        },
        "id": "FFqj87byvGSp",
        "outputId": "0fb46603-7b17-41dc-bd0e-74188ccea480"
      },
      "execution_count": 23,
      "outputs": [
        {
          "output_type": "execute_result",
          "data": {
            "text/plain": [
              "(139442.1956140351, 2255000.0, 2899.0)"
            ]
          },
          "metadata": {},
          "execution_count": 23
        }
      ]
    },
    {
      "cell_type": "code",
      "source": [
        "y_test.hist()"
      ],
      "metadata": {
        "colab": {
          "base_uri": "https://localhost:8080/",
          "height": 295
        },
        "id": "-liaZDz1vnkc",
        "outputId": "3444e8f4-01a7-4242-ff58-6beb1d80da79"
      },
      "execution_count": 25,
      "outputs": [
        {
          "output_type": "execute_result",
          "data": {
            "text/plain": [
              "<matplotlib.axes._subplots.AxesSubplot at 0x7f5d0305edd0>"
            ]
          },
          "metadata": {},
          "execution_count": 25
        },
        {
          "output_type": "display_data",
          "data": {
            "text/plain": [
              "<Figure size 432x288 with 1 Axes>"
            ],
            "image/png": "[encoded data removed]"
          },
          "metadata": {
            "needs_background": "light"
          }
        }
      ]
    },
    {
      "cell_type": "code",
      "source": [
        "X_train.info()"
      ],
      "metadata": {
        "colab": {
          "base_uri": "https://localhost:8080/"
        },
        "id": "iWNDb5tlvNLA",
        "outputId": "2f166f62-6d6d-4402-eb83-8e6ac77a4e28"
      },
      "execution_count": 24,
      "outputs": [
        {
          "output_type": "stream",
          "name": "stdout",
          "text": [
            "<class 'pandas.core.frame.DataFrame'>\n",
            "Int64Index: 3420 entries, 793 to 816\n",
            "Data columns (total 20 columns):\n",
            " #   Column              Non-Null Count  Dtype  \n",
            "---  ------              --------------  -----  \n",
            " 0   Engine Capacity     3420 non-null   float64\n",
            " 1   Cylinders           3420 non-null   int64  \n",
            " 2   Drive Type          3420 non-null   int64  \n",
            " 3   Fuel Tank Capacity  3420 non-null   float64\n",
            " 4   Fuel Economy        3420 non-null   float64\n",
            " 5   Fuel Type           3420 non-null   int64  \n",
            " 6   Horsepower          3420 non-null   int64  \n",
            " 7   Torque              3420 non-null   float64\n",
            " 8   Transmission        3420 non-null   int64  \n",
            " 9   Top Speed           3420 non-null   int64  \n",
            " 10  Seating Capacity    3420 non-null   int64  \n",
            " 11  Acceleration        3420 non-null   float64\n",
            " 12  Length              3420 non-null   float64\n",
            " 13  Width               3420 non-null   float64\n",
            " 14  Height              3420 non-null   float64\n",
            " 15  Wheelbase           3420 non-null   float64\n",
            " 16  Trunk Capacity      3420 non-null   float64\n",
            " 17  name                3420 non-null   object \n",
            " 18  currency            3420 non-null   int64  \n",
            " 19  Country             3420 non-null   int64  \n",
            "dtypes: float64(10), int64(9), object(1)\n",
            "memory usage: 561.1+ KB\n"
          ]
        }
      ]
    },
    {
      "cell_type": "code",
      "source": [
        "X_train = X_train.drop(\"name\", axis=1)\n",
        "X_test = X_test.drop(\"name\", axis=1)"
      ],
      "metadata": {
        "id": "T8Ds1XZHvZo9"
      },
      "execution_count": 26,
      "outputs": []
    },
    {
      "cell_type": "code",
      "source": [
        "model = LinearRegression()\n",
        "\n",
        "model.fit(X_train, y_train)\n",
        "y_pred = model.predict(X_test)\n",
        "\n",
        "print(\"RMSE = \", mean_squared_error(y_pred, y_test, squared=False))"
      ],
      "metadata": {
        "colab": {
          "base_uri": "https://localhost:8080/"
        },
        "id": "Kh4ex8v7wPsq",
        "outputId": "413c6146-b5b1-47be-dc67-9ad2828a1b11"
      },
      "execution_count": 35,
      "outputs": [
        {
          "output_type": "stream",
          "name": "stdout",
          "text": [
            "RMSE =  183954.93834940906\n"
          ]
        },
        {
          "output_type": "stream",
          "name": "stderr",
          "text": [
            "/usr/local/lib/python3.7/dist-packages/sklearn/linear_model/_base.py:145: FutureWarning: 'normalize' was deprecated in version 1.0 and will be removed in 1.2.\n",
            "If you wish to scale the data, use Pipeline with a StandardScaler in a preprocessing stage. To reproduce the previous behavior:\n",
            "\n",
            "from sklearn.pipeline import make_pipeline\n",
            "\n",
            "model = make_pipeline(StandardScaler(with_mean=False), LinearRegression())\n",
            "\n",
            "If you wish to pass a sample_weight parameter, you need to pass it as a fit parameter to each step of the pipeline as follows:\n",
            "\n",
            "kwargs = {s[0] + '__sample_weight': sample_weight for s in model.steps}\n",
            "model.fit(X, y, **kwargs)\n",
            "\n",
            "\n",
            "  FutureWarning,\n"
          ]
        }
      ]
    },
    {
      "cell_type": "code",
      "source": [
        "model = DecisionTreeRegressor()\n",
        "\n",
        "model.fit(X_train, y_train)\n",
        "y_pred = model.predict(X_test)\n",
        "\n",
        "print(\"RMSE = \", mean_squared_error(y_pred, y_test, squared=False))"
      ],
      "metadata": {
        "colab": {
          "base_uri": "https://localhost:8080/"
        },
        "id": "FDkAeAGWwvxl",
        "outputId": "03910927-f18b-4179-a55e-d33e71d46d34"
      },
      "execution_count": 30,
      "outputs": [
        {
          "output_type": "stream",
          "name": "stdout",
          "text": [
            "RMSE =  261137.2077548861\n"
          ]
        }
      ]
    },
    {
      "cell_type": "code",
      "source": [
        "model = RandomForestRegressor(n_estimators=50)\n",
        "\n",
        "model.fit(X_train, y_train)\n",
        "y_pred = model.predict(X_test)\n",
        "\n",
        "print(\"RMSE = \", mean_squared_error(y_pred, y_test, squared=False))"
      ],
      "metadata": {
        "colab": {
          "base_uri": "https://localhost:8080/"
        },
        "id": "O-7_WNZVw0VA",
        "outputId": "4d53fa30-1705-4649-9204-5d951e5e0749"
      },
      "execution_count": 37,
      "outputs": [
        {
          "output_type": "stream",
          "name": "stdout",
          "text": [
            "RMSE =  251062.6255359451\n"
          ]
        }
      ]
    },
    {
      "cell_type": "code",
      "source": [
        "model = GradientBoostingRegressor()\n",
        "\n",
        "model.fit(X_train, y_train)\n",
        "y_pred = model.predict(X_test)\n",
        "\n",
        "print(\"RMSE = \", mean_squared_error(y_pred, y_test, squared=False))"
      ],
      "metadata": {
        "colab": {
          "base_uri": "https://localhost:8080/"
        },
        "id": "bg3gpt6Yx7ps",
        "outputId": "1dc170ef-011a-4676-deb0-588b3ec25bad"
      },
      "execution_count": 34,
      "outputs": [
        {
          "output_type": "stream",
          "name": "stdout",
          "text": [
            "RMSE =  231851.23611821776\n"
          ]
        }
      ]
    },
    {
      "cell_type": "code",
      "source": [
        ""
      ],
      "metadata": {
        "id": "idH8i36byndb"
      },
      "execution_count": null,
      "outputs": []
    }
  ]
}